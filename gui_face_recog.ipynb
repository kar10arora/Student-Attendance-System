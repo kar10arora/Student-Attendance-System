{
 "cells": [
  {
   "cell_type": "markdown",
   "id": "b66721d5-adfd-41bc-9d91-81ad8135a17f",
   "metadata": {},
   "source": [
    "# Attendance sytem GUI"
   ]
  },
  {
   "cell_type": "code",
   "execution_count": 1,
   "id": "7582c712-c0ce-4e7f-b181-30336499ada2",
   "metadata": {},
   "outputs": [],
   "source": [
    "import cv2\n",
    "import numpy as np\n",
    "import tensorflow as tf\n",
    "import pickle\n",
    "import pandas as pd"
   ]
  },
  {
   "cell_type": "code",
   "execution_count": 2,
   "id": "296fce4a-33cc-40ac-8cbd-8955dc6ba105",
   "metadata": {},
   "outputs": [
    {
     "name": "stderr",
     "output_type": "stream",
     "text": [
      "WARNING:absl:Compiled the loaded model, but the compiled metrics have yet to be built. `model.compile_metrics` will be empty until you train or evaluate the model.\n"
     ]
    }
   ],
   "source": [
    "model = tf.keras.models.load_model(\"upg_student_face_recognition.h5\")"
   ]
  },
  {
   "cell_type": "code",
   "execution_count": 3,
   "id": "474881aa-c7fb-4110-a4e7-9f8c26c7f5b5",
   "metadata": {},
   "outputs": [],
   "source": [
    "with open(\"labels.pkl\" , \"rb\") as f:\n",
    "    labels = pickle.load(f)"
   ]
  },
  {
   "cell_type": "code",
   "execution_count": 4,
   "id": "a4b7d6a1-2961-4997-ad6a-544abb177406",
   "metadata": {},
   "outputs": [
    {
     "data": {
      "text/plain": [
       "{'201': 0,\n",
       " '202': 1,\n",
       " '203': 2,\n",
       " '204': 3,\n",
       " '205': 4,\n",
       " '206': 5,\n",
       " '207': 6,\n",
       " '208': 7,\n",
       " '209': 8,\n",
       " '210': 9}"
      ]
     },
     "execution_count": 4,
     "metadata": {},
     "output_type": "execute_result"
    }
   ],
   "source": [
    "labels"
   ]
  },
  {
   "cell_type": "code",
   "execution_count": 8,
   "id": "51cc22e5-e94a-435b-a3ca-e966a2a7f9c2",
   "metadata": {},
   "outputs": [],
   "source": [
    "student_mapping = {v:k for k,v in labels.items()}"
   ]
  },
  {
   "cell_type": "code",
   "execution_count": null,
   "id": "dbaaa6eb-ba27-41f1-865c-8b5969297b9b",
   "metadata": {},
   "outputs": [],
   "source": [
    "face_cascade = cv2.CascadeClassifier(cv2.data.haarcascades + 'haarcascade_frontalface_default.xml')"
   ]
  },
  {
   "cell_type": "code",
   "execution_count": null,
   "id": "0b6675c2-62d0-4410-b1ba-59eddcb8a037",
   "metadata": {},
   "outputs": [],
   "source": [
    "emotion_model = \"\" # path for the emotion detection model that I have build for the task 1 for visualization activation maps"
   ]
  },
  {
   "cell_type": "code",
   "execution_count": null,
   "id": "2a7a25aa-bbdf-4e27-88ad-925e9a4a3727",
   "metadata": {},
   "outputs": [],
   "source": [
    "start_time = datetime.strptime(\"09:30:00\", \"%H:%M:%S\").time()\n",
    "end_time = datetime.strptime(\"10:00:00\", \"%H:%M:%S\").time()\n",
    "\n",
    "cap = cv2.VideoCapture(0)\n",
    "\n",
    "while True:\n",
    "    now = datetime.now()\n",
    "    current_time = now.time()\n",
    "    if current_time < start_time or current_time > end_time:\n",
    "        print(\"Attendance system is inactive. Waiting for the allowed time window...\")\n",
    "        time.sleep(10)\n",
    "        continue\n",
    "\n",
    "    ret, frame = cap.read()\n",
    "    if not ret:\n",
    "        break\n",
    "\n",
    "    rgb = cv2.cvtColor(frame, cv2.COLOR_BGR2RGB)\n",
    "\n",
    "    faces = face_cascade.detectMultiScale(rgb, scaleFactor=1.1, minNeighbors=5, minSize=(30, 30))\n",
    "    \n",
    "    for (x, y, w, h) in faces:\n",
    "        face = frame[y:y+h, x:x+w]\n",
    "        face_resized = cv2.resize(face, (128, 128))\n",
    "        face_normalized = np.expand_dims(face_resized, axis=0) / 255.0\n",
    "        prediction = model.predict(face_normalized)\n",
    "        student_id = np.argmax(prediction)\n",
    "        student_label = student_mapping.get(student_id, 'Unknown')\n",
    "        emotion_prediction = emotion_model.predict(face_normalized)\n",
    "        emotion_id = np.argmax(emotion_prediction)\n",
    "        emotions = [\"Happy\", \"Sad\", \"Neutral\", \"Angry\", \"Surprised\"]\n",
    "        emotion_label = emotions[emotion_id]\n",
    "        if student_label != \"Unknown\":\n",
    "            attendance[student_label] = {\n",
    "                \"Status\": \"Present\",\n",
    "                \"Time\": now.strftime(\"%H:%M:%S\"),\n",
    "                \"Emotion\": emotion_label\n",
    "            }\n",
    "\n",
    "        cv2.putText(frame, f\"{student_label} ({emotion_label})\", (x, y-10), \n",
    "                    cv2.FONT_HERSHEY_SIMPLEX, 0.8, (0, 255, 0), 2)\n",
    "        cv2.rectangle(frame, (x, y), (x + w, y + h), (0, 255, 0), 2)\n",
    "\n",
    "    cv2.imshow('Face Recognition Attendance', frame)\n",
    "\n",
    "    if cv2.waitKey(1) & 0xFF == ord('q'):\n",
    "        break\n",
    "\n",
    "cap.release()\n",
    "cv2.destroyAllWindows()\n",
    "df = pd.DataFrame.from_dict(attendance, orient=\"index\").reset_index()\n",
    "df.columns = [\"Student\", \"Status\", \"Time\", \"Emotion\"]\n",
    "df.to_excel(\"attendance.xlsx\", index=False)\n",
    "print(\"Attendance saved to attendance.xlsx\")"
   ]
  }
 ],
 "metadata": {
  "kernelspec": {
   "display_name": "Python 3 (ipykernel)",
   "language": "python",
   "name": "python3"
  },
  "language_info": {
   "codemirror_mode": {
    "name": "ipython",
    "version": 3
   },
   "file_extension": ".py",
   "mimetype": "text/x-python",
   "name": "python",
   "nbconvert_exporter": "python",
   "pygments_lexer": "ipython3",
   "version": "3.11.5"
  }
 },
 "nbformat": 4,
 "nbformat_minor": 5
}
